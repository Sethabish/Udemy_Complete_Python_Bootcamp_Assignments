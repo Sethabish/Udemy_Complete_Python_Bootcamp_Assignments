{
 "cells": [
  {
   "cell_type": "markdown",
   "metadata": {},
   "source": [
    "<img src='Pierian_Data_Logo.png'/>"
   ]
  },
  {
   "cell_type": "markdown",
   "metadata": {},
   "source": [
    "# Guessing Game Challenge\n",
    "\n",
    "Let's use `while` loops to create a guessing game.\n",
    "\n",
    "The Challenge:\n",
    "\n",
    "Write a program that picks a random integer from 1 to 100, and has players guess the number. The rules are:\n",
    "\n",
    "1. If a player's guess is less than 1 or greater than 100, say \"OUT OF BOUNDS\"\n",
    "2. On a player's first turn, if their guess is\n",
    " * within 10 of the number, return \"WARM!\"\n",
    " * further than 10 away from the number, return \"COLD!\"\n",
    "3. On all subsequent turns, if a guess is \n",
    " * closer to the number than the previous guess return \"WARMER!\"\n",
    " * farther from the number than the previous guess, return \"COLDER!\"\n",
    "4. When the player's guess equals the number, tell them they've guessed correctly *and* how many guesses it took!"
   ]
  },
  {
   "cell_type": "code",
   "execution_count": null,
   "metadata": {
    "collapsed": true
   },
   "outputs": [],
   "source": [
    "import random\n",
    "rand = random.randint(1,100)\n",
    "guesses = [0]\n",
    "print(\"WELCOME TO 'GUESS THE NUMBER!'\")\n",
    "print(\"I'm thinking of a number between 1 and 100\")\n",
    "print(\"If your guess is more than 10 away from my number, I'll tell you you're COLD\")\n",
    "print(\"If your guess is within 10 of my number, I'll tell you you're WARM\")\n",
    "print(\"If your guess is farther than your most recent guess, I'll say you're getting COLDER\")\n",
    "print(\"If your guess is closer than your most recent guess, I'll say you're getting WARMER\")\n",
    "print(\"LET'S PLAY!\")\n",
    "while True:\n",
    "    guess = int(input('Guess the number: '))\n",
    "    guesses.append(guess)\n",
    "    if guess < 1 or guess > 100:\n",
    "        print('OUT OF BOUNDS')\n",
    "    else:\n",
    "        if guess == rand:\n",
    "            print(f'Congratulations! You guessed correctly in {len(guesses)-1} guesses')\n",
    "            break\n",
    "        else:\n",
    "            if guesses[-2]:\n",
    "                if abs(rand-guess) < abs(rand-guesses[-2]):\n",
    "                    print('Warmer')\n",
    "                else:\n",
    "                    print('Colder')\n",
    "            else:\n",
    "                if abs(rand-guess) <= 10:\n",
    "                    print('Warm')\n",
    "                else:\n",
    "                    print('Cold')"
   ]
  }
 ],
 "metadata": {
  "kernelspec": {
   "display_name": "Python 3 (ipykernel)",
   "language": "python",
   "name": "python3"
  },
  "language_info": {
   "codemirror_mode": {
    "name": "ipython",
    "version": 3
   },
   "file_extension": ".py",
   "mimetype": "text/x-python",
   "name": "python",
   "nbconvert_exporter": "python",
   "pygments_lexer": "ipython3",
   "version": "3.10.5"
  }
 },
 "nbformat": 4,
 "nbformat_minor": 2
}
